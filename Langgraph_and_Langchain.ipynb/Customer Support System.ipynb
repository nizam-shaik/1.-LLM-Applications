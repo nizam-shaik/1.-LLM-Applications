{
 "cells": [
  {
   "cell_type": "markdown",
   "id": "d743c375",
   "metadata": {},
   "source": [
    "# 🤖 AI-Powered Customer Support System\n",
    "\n",
    "This project demonstrates how to build an **AI-powered customer support workflow**  \n",
    "using **LangGraph**, **LangChain**, and **Google Gemini (via `langchain-google-genai`)**.\n",
    "\n",
    "---\n",
    "\n",
    "### 🔧 What This Notebook Covers\n",
    "1. **Environment Setup** – Loading API keys securely using `.env`\n",
    "2. **LLM Configuration** – Setting up Google Gemini\n",
    "3. **State Definition** – Using `TypedDict` for structured state management\n",
    "4. **Node Functions** – Categorization, Sentiment Analysis, and Response Generation\n",
    "5. **Workflow Orchestration** – Using `StateGraph` to route queries\n",
    "6. **Testing & Debugging** – Running sample queries and displaying results\n",
    "\n",
    "---\n",
    "\n",
    "### 🎯 Goal\n",
    "Automatically:\n",
    "- Categorize customer queries (`Technical`, `Billing`, `General`)\n",
    "- Detect sentiment (`Positive`, `Negative`, `Neutral`)\n",
    "- Generate AI-based responses\n",
    "- Escalate negative queries to human agents when needed\n",
    "\n",
    "This is a **production-ready notebook** with modular code and debug-friendly logging.\n"
   ]
  },
  {
   "cell_type": "code",
   "execution_count": 21,
   "id": "f2077c95",
   "metadata": {},
   "outputs": [],
   "source": [
    "from typing import TypedDict, Dict\n",
    "from langgraph.graph import StateGraph,END\n",
    "from langchain_core.prompts import ChatPromptTemplate\n",
    "from langchain_core.runnables.graph import MermaidDrawMethod\n",
    "import os\n",
    "from IPython.display import display,Image\n",
    "\n",
    "from dotenv import load_dotenv\n",
    "from langchain_google_genai import ChatGoogleGenerativeAI"
   ]
  },
  {
   "cell_type": "markdown",
   "id": "f1003ce7",
   "metadata": {},
   "source": [
    "# Load Environment Variables"
   ]
  },
  {
   "cell_type": "code",
   "execution_count": 22,
   "id": "3ef9099e",
   "metadata": {},
   "outputs": [
    {
     "name": "stdout",
     "output_type": "stream",
     "text": [
      "✅ Environment variables loaded successfully\n"
     ]
    }
   ],
   "source": [
    "load_dotenv()\n",
    "google_api_key = os.getenv(\"GOOGLE_API_KEY\")\n",
    "\n",
    "if not google_api_key:\n",
    "    raise ValueError(\"❌ GOOGLE_API_KEY not found. Please add it to your .env file.\")\n",
    "print(\"✅ Environment variables loaded successfully\")"
   ]
  },
  {
   "cell_type": "markdown",
   "id": "68229da8",
   "metadata": {},
   "source": [
    "# Configure LLM"
   ]
  },
  {
   "cell_type": "code",
   "execution_count": 23,
   "id": "12f13e4f",
   "metadata": {},
   "outputs": [
    {
     "name": "stdout",
     "output_type": "stream",
     "text": [
      "✅ LLM configured successfully\n"
     ]
    }
   ],
   "source": [
    "# Configure Gemini model for response generation\n",
    "llm = ChatGoogleGenerativeAI(\n",
    "    model=\"gemini-2.5-flash\",\n",
    "    google_api_key=google_api_key,\n",
    "    temperature=0.7,\n",
    ")\n",
    "\n",
    "print(\"✅ LLM configured successfully\")"
   ]
  },
  {
   "cell_type": "markdown",
   "id": "5893f469",
   "metadata": {},
   "source": [
    "# Define state structure"
   ]
  },
  {
   "cell_type": "code",
   "execution_count": 24,
   "id": "8b1aa967",
   "metadata": {},
   "outputs": [],
   "source": [
    "# a dictionary with specific key types and value types for type checking \n",
    "class State(TypedDict):\n",
    "  query: str\n",
    "  category: str\n",
    "  sentiment: str\n",
    "  response: str"
   ]
  },
  {
   "cell_type": "markdown",
   "id": "35a38384",
   "metadata": {},
   "source": [
    "# Define Nodes"
   ]
  },
  {
   "cell_type": "code",
   "execution_count": 25,
   "id": "bb740c21",
   "metadata": {},
   "outputs": [],
   "source": [
    "def categorize(state: State) -> State:\n",
    "    \"\"\"Technical, Billing, General\"\"\"\n",
    "    prompt = ChatPromptTemplate.from_template(\n",
    "        \"Categorize the following customer query into one of these categories: Technical, Billing, General.\\n\\nquery:{query}\\n\\n\"\n",
    "\n",
    "    )\n",
    "\n",
    "    chain = prompt | llm\n",
    "\n",
    "    category = chain.invoke({\"query\":state['query']}).content.strip()\n",
    "    return {**state, \"category\":category}\n",
    "\n"
   ]
  },
  {
   "cell_type": "code",
   "execution_count": 26,
   "id": "3c238310",
   "metadata": {},
   "outputs": [],
   "source": [
    "def analyze_sentiment(state:State)-> State:\n",
    "    prompt = ChatPromptTemplate.from_template(\n",
    "        \"Analyze the sentiment of the following customer query\"\n",
    "        \"response with 'Positive', 'Negative', 'Neutral'.\\n\\n\"\n",
    "        \"query:{query}\\n\\n\")\n",
    "    chain = prompt | llm\n",
    "    sentiment = chain.invoke({\"query\":state['query']}).content.strip()\n",
    "    print(sentiment)\n",
    "    return {**state,\"sentiment\":sentiment}"
   ]
  },
  {
   "cell_type": "code",
   "execution_count": 27,
   "id": "64e8269e",
   "metadata": {},
   "outputs": [],
   "source": [
    "\n",
    "def handle_technical(state: State) -> State:\n",
    "    prompt = ChatPromptTemplate.from_template(\n",
    "        \"Provide a detailed but friendly technical support response to the following query: {query}\"\n",
    "    )\n",
    "    chain = prompt | llm\n",
    "    response = chain.invoke({\"query\": state[\"query\"]}).content.strip()\n",
    "    print(f\"🛠 Response: {response}\")\n",
    "    return {**state, \"response\": response}"
   ]
  },
  {
   "cell_type": "code",
   "execution_count": 28,
   "id": "72008ef6",
   "metadata": {},
   "outputs": [],
   "source": [
    "\n",
    "def handle_billing(state: State) -> State:\n",
    "    prompt = ChatPromptTemplate.from_template(\n",
    "        \"Provide a billing support response to the following query: {query}\"\n",
    "    )\n",
    "    chain = prompt | llm\n",
    "    response = chain.invoke({\"query\": state[\"query\"]}).content.strip()\n",
    "    return {**state, \"response\": response}"
   ]
  },
  {
   "cell_type": "code",
   "execution_count": 29,
   "id": "80b5fd00",
   "metadata": {},
   "outputs": [],
   "source": [
    "def handle_general(state: State) -> State:\n",
    "    prompt = ChatPromptTemplate.from_template(\n",
    "        \"Provide a general support response to the following query: {query}\"\n",
    "    )\n",
    "    chain = prompt | llm\n",
    "    response = chain.invoke({\"query\": state[\"query\"]}).content.strip()\n",
    "    return {**state, \"response\": response}"
   ]
  },
  {
   "cell_type": "code",
   "execution_count": 30,
   "id": "e246e742",
   "metadata": {},
   "outputs": [],
   "source": [
    "def escalate_to_human(state: State) -> State:\n",
    "    return {**state, \"response\": \"Your query has been escalated to a human agent.\"}\n"
   ]
  },
  {
   "cell_type": "markdown",
   "id": "b12a3bf5",
   "metadata": {},
   "source": [
    "# Define Routing & Workflow"
   ]
  },
  {
   "cell_type": "code",
   "execution_count": 31,
   "id": "b1fa7f65",
   "metadata": {},
   "outputs": [],
   "source": [
    "def route_query(state: State) -> str:\n",
    "    if state[\"sentiment\"].lower() == \"negative\":\n",
    "        return \"escalate_to_human\"\n",
    "    elif \"Technical\" in state[\"category\"]:\n",
    "        return \"handle_technical\"\n",
    "    elif \"Billing\" in state[\"category\"]:\n",
    "        return \"handle_billing\"\n",
    "    else:\n",
    "        return \"handle_general\""
   ]
  },
  {
   "cell_type": "code",
   "execution_count": 32,
   "id": "51417d2d",
   "metadata": {},
   "outputs": [
    {
     "data": {
      "text/plain": [
       "<langgraph.graph.state.StateGraph at 0x7f411dc6ef30>"
      ]
     },
     "execution_count": 32,
     "metadata": {},
     "output_type": "execute_result"
    }
   ],
   "source": [
    "workflow = StateGraph(State)\n",
    "workflow.add_node(\"categorize\",categorize)\n",
    "workflow.add_node(\"analyze_sentiment\",analyze_sentiment)\n",
    "workflow.add_node(\"handle_technical\",handle_technical)\n",
    "workflow.add_node(\"handle_billing\",handle_billing)\n",
    "workflow.add_node(\"handle_general\",handle_general)\n",
    "workflow.add_node(\"escalate_to_human\",escalate_to_human)\n",
    "\n"
   ]
  },
  {
   "cell_type": "code",
   "execution_count": 33,
   "id": "6de9313a",
   "metadata": {},
   "outputs": [],
   "source": [
    "workflow.add_edge(\"categorize\",\"analyze_sentiment\")\n",
    "workflow.add_conditional_edges(\"analyze_sentiment\",\n",
    "                               route_query,{\n",
    "                                   \"handle_technical\":\"handle_technical\",\n",
    "                                   \"handle_billing\":\"handle_billing\",\n",
    "                                   \"handle_general\":\"handle_general\",\n",
    "                                   \"escalate_to_human\":\"escalate_to_human\"\n",
    "                               })\n",
    "workflow.add_edge(\"handle_technical\",END)\n",
    "workflow.add_edge(\"handle_billing\",END)\n",
    "workflow.add_edge(\"handle_general\",END)\n",
    "workflow.add_edge(\"escalate_to_human\",END)\n",
    "\n",
    "workflow.set_entry_point(\"categorize\")\n",
    "\n",
    "app = workflow.compile()\n"
   ]
  },
  {
   "cell_type": "markdown",
   "id": "50657355",
   "metadata": {},
   "source": [
    "# Helper Function & Test"
   ]
  },
  {
   "cell_type": "code",
   "execution_count": 36,
   "id": "f76b454f",
   "metadata": {},
   "outputs": [
    {
     "name": "stdout",
     "output_type": "stream",
     "text": [
      "**Negative**\n",
      "\n",
      "The customer's query \"My internet connection is super slow, can you help me?\" expresses a problem and dissatisfaction, indicating a negative sentiment.\n",
      "🛠 Response: Hi there! Oh no, a slow internet connection is incredibly frustrating, especially when you're trying to get things done or just relax. I'd be happy to help you troubleshoot this and get your speed back up!\n",
      "\n",
      "There are many reasons why an internet connection might slow down, so let's go through some common steps to pinpoint and fix the issue.\n",
      "\n",
      "To help us narrow down the cause, could you tell me a little more about what's happening?\n",
      "\n",
      "*   **Is it slow on ALL your devices (laptop, phone, tablet, smart TV), or just one specific device?**\n",
      "*   **Is it slow all the time, or only at certain times of the day?**\n",
      "*   **Is it slow on ALL websites and apps, or just specific ones (e.g., streaming services, online games)?**\n",
      "*   **Have you noticed any recent changes, like new devices, new software, or new internet service plan?**\n",
      "\n",
      "While you're thinking about that, here are the most common troubleshooting steps you can try right away:\n",
      "\n",
      "---\n",
      "\n",
      "### **Step 1: The Classic Reboot (Modem and Router)**\n",
      "\n",
      "This is the golden rule of tech support for a reason – it often fixes a surprising number of issues by clearing out temporary glitches and refreshing your connection.\n",
      "\n",
      "1.  **Unplug your modem** (the device that connects to your internet line, often provided by your ISP).\n",
      "2.  **Unplug your Wi-Fi router** (the device that broadcasts your Wi-Fi signal, sometimes combined with the modem).\n",
      "3.  **Wait about 30-60 seconds.** This allows the devices to fully power down and clear their memory.\n",
      "4.  **Plug your modem back in first.** Wait for all its lights to stabilize (this can take a few minutes).\n",
      "5.  **Once the modem lights are stable, plug your router back in.** Wait for its lights to stabilize as well.\n",
      "6.  **Test your internet connection** after everything is fully powered up.\n",
      "\n",
      "---\n",
      "\n",
      "### **Step 2: Run a Speed Test**\n",
      "\n",
      "Let's get a measurable idea of what \"super slow\" means.\n",
      "\n",
      "1.  Go to a reliable speed test website like **Ookla Speedtest (speedtest.net)** or **Google's Speed Test (just search \"speed test\" on Google)**.\n",
      "2.  **Run the test** and make a note of your **Download Speed**, **Upload Speed**, and **Ping** (latency).\n",
      "3.  **Compare these results to the speed you're paying for** from your Internet Service Provider (ISP). Keep in mind that Wi-Fi speeds are often a bit lower than wired connections, but it gives us a good baseline.\n",
      "\n",
      "---\n",
      "\n",
      "### **Step 3: Check Your Wi-Fi Signal & Placement**\n",
      "\n",
      "Wi-Fi signal strength and interference can significantly impact your speed.\n",
      "\n",
      "1.  **Move Closer to Your Router:** Try connecting to the internet with your device while sitting very close to your Wi-Fi router. If the speed significantly improves, your issue might be related to Wi-Fi signal strength or interference.\n",
      "2.  **Router Placement:**\n",
      "    *   **Central Location:** Your router should ideally be in a central location in your home, not tucked away in a corner or closet.\n",
      "    *   **Elevated:** Place it on a shelf or table, not on the floor.\n",
      "    *   **Away from Obstacles:** Keep it away from large metal objects, thick walls, and other electronics (like microwaves, cordless phones, baby monitors) that can interfere with the signal.\n",
      "3.  **Too Many Devices:** Are there many devices connected to your Wi-Fi network? Each device uses a portion of your bandwidth. Try disconnecting some devices temporarily to see if your speed improves.\n",
      "4.  **Wi-Fi Band:** Most modern routers broadcast on two frequencies: 2.4 GHz and 5 GHz.\n",
      "    *   **2.4 GHz** has a wider range and penetrates walls better, but is generally slower and more prone to interference.\n",
      "    *   **5 GHz** is much faster but has a shorter range and is more easily blocked by obstacles.\n",
      "    *   If your router broadcasts both, try connecting to the 5 GHz network if you're close to the router.\n",
      "\n",
      "---\n",
      "\n",
      "### **Step 4: Check Your Device (Computer/Phone)**\n",
      "\n",
      "Sometimes the problem isn't the internet itself, but the device you're using.\n",
      "\n",
      "1.  **Restart Your Device:** Just like the router, a quick reboot of your computer, phone, or tablet can clear out any temporary software glitches.\n",
      "2.  **Close Unnecessary Programs/Tabs:** If you have many applications running or dozens of browser tabs open, they can consume resources and slow down your device, making your internet *feel* slow.\n",
      "3.  **Clear Browser Cache:** Over time, your web browser accumulates temporary files (cache and cookies) which can sometimes slow down browsing. Look in your browser's settings for an option to clear browsing data.\n",
      "4.  **Check for Malware:** Malicious software can consume bandwidth and system resources. Run a scan with your antivirus software if you have one.\n",
      "5.  **Try a Different Browser:** If one browser is slow, try another (e.g., if Chrome is slow, try Firefox or Edge) to see if the issue is browser-specific.\n",
      "\n",
      "---\n",
      "\n",
      "### **Step 5: Consider a Wired Connection (Ethernet)**\n",
      "\n",
      "If possible, try connecting your computer directly to your router with an Ethernet cable.\n",
      "\n",
      "*   If your speed dramatically improves when wired, the problem is likely with your Wi-Fi signal or router's wireless capabilities.\n",
      "*   If the speed is still slow even with a wired connection, the issue is more likely with your modem, your ISP, or your internet line coming into your home.\n",
      "\n",
      "---\n",
      "\n",
      "### **Step 6: Contact Your Internet Service Provider (ISP)**\n",
      "\n",
      "If you've tried all the above steps and your internet is still super slow, it's time to reach out to your ISP. They can:\n",
      "\n",
      "*   **Check for outages** in your area.\n",
      "*   **Run diagnostics on your line** remotely.\n",
      "*   **Verify your modem's health.**\n",
      "*   **Confirm your service plan** and ensure you're getting the speeds you're paying for.\n",
      "*   **Schedule a technician visit** if necessary.\n",
      "\n",
      "---\n",
      "\n",
      "I know this is a lot of information, but taking these steps systematically will help us figure out what's going on.\n",
      "\n",
      "Please let me know the answers to those initial questions, and what results you get from the speed test after trying the reboot. We'll get to the bottom of this!\n"
     ]
    },
    {
     "data": {
      "text/plain": [
       "{'category': 'This query falls under the **Technical** category.\\n\\nThe customer is experiencing a performance issue with their internet connection, which requires technical troubleshooting to diagnose and resolve.',\n",
       " 'sentiment': '**Negative**\\n\\nThe customer\\'s query \"My internet connection is super slow, can you help me?\" expresses a problem and dissatisfaction, indicating a negative sentiment.',\n",
       " 'response': 'Hi there! Oh no, a slow internet connection is incredibly frustrating, especially when you\\'re trying to get things done or just relax. I\\'d be happy to help you troubleshoot this and get your speed back up!\\n\\nThere are many reasons why an internet connection might slow down, so let\\'s go through some common steps to pinpoint and fix the issue.\\n\\nTo help us narrow down the cause, could you tell me a little more about what\\'s happening?\\n\\n*   **Is it slow on ALL your devices (laptop, phone, tablet, smart TV), or just one specific device?**\\n*   **Is it slow all the time, or only at certain times of the day?**\\n*   **Is it slow on ALL websites and apps, or just specific ones (e.g., streaming services, online games)?**\\n*   **Have you noticed any recent changes, like new devices, new software, or new internet service plan?**\\n\\nWhile you\\'re thinking about that, here are the most common troubleshooting steps you can try right away:\\n\\n---\\n\\n### **Step 1: The Classic Reboot (Modem and Router)**\\n\\nThis is the golden rule of tech support for a reason – it often fixes a surprising number of issues by clearing out temporary glitches and refreshing your connection.\\n\\n1.  **Unplug your modem** (the device that connects to your internet line, often provided by your ISP).\\n2.  **Unplug your Wi-Fi router** (the device that broadcasts your Wi-Fi signal, sometimes combined with the modem).\\n3.  **Wait about 30-60 seconds.** This allows the devices to fully power down and clear their memory.\\n4.  **Plug your modem back in first.** Wait for all its lights to stabilize (this can take a few minutes).\\n5.  **Once the modem lights are stable, plug your router back in.** Wait for its lights to stabilize as well.\\n6.  **Test your internet connection** after everything is fully powered up.\\n\\n---\\n\\n### **Step 2: Run a Speed Test**\\n\\nLet\\'s get a measurable idea of what \"super slow\" means.\\n\\n1.  Go to a reliable speed test website like **Ookla Speedtest (speedtest.net)** or **Google\\'s Speed Test (just search \"speed test\" on Google)**.\\n2.  **Run the test** and make a note of your **Download Speed**, **Upload Speed**, and **Ping** (latency).\\n3.  **Compare these results to the speed you\\'re paying for** from your Internet Service Provider (ISP). Keep in mind that Wi-Fi speeds are often a bit lower than wired connections, but it gives us a good baseline.\\n\\n---\\n\\n### **Step 3: Check Your Wi-Fi Signal & Placement**\\n\\nWi-Fi signal strength and interference can significantly impact your speed.\\n\\n1.  **Move Closer to Your Router:** Try connecting to the internet with your device while sitting very close to your Wi-Fi router. If the speed significantly improves, your issue might be related to Wi-Fi signal strength or interference.\\n2.  **Router Placement:**\\n    *   **Central Location:** Your router should ideally be in a central location in your home, not tucked away in a corner or closet.\\n    *   **Elevated:** Place it on a shelf or table, not on the floor.\\n    *   **Away from Obstacles:** Keep it away from large metal objects, thick walls, and other electronics (like microwaves, cordless phones, baby monitors) that can interfere with the signal.\\n3.  **Too Many Devices:** Are there many devices connected to your Wi-Fi network? Each device uses a portion of your bandwidth. Try disconnecting some devices temporarily to see if your speed improves.\\n4.  **Wi-Fi Band:** Most modern routers broadcast on two frequencies: 2.4 GHz and 5 GHz.\\n    *   **2.4 GHz** has a wider range and penetrates walls better, but is generally slower and more prone to interference.\\n    *   **5 GHz** is much faster but has a shorter range and is more easily blocked by obstacles.\\n    *   If your router broadcasts both, try connecting to the 5 GHz network if you\\'re close to the router.\\n\\n---\\n\\n### **Step 4: Check Your Device (Computer/Phone)**\\n\\nSometimes the problem isn\\'t the internet itself, but the device you\\'re using.\\n\\n1.  **Restart Your Device:** Just like the router, a quick reboot of your computer, phone, or tablet can clear out any temporary software glitches.\\n2.  **Close Unnecessary Programs/Tabs:** If you have many applications running or dozens of browser tabs open, they can consume resources and slow down your device, making your internet *feel* slow.\\n3.  **Clear Browser Cache:** Over time, your web browser accumulates temporary files (cache and cookies) which can sometimes slow down browsing. Look in your browser\\'s settings for an option to clear browsing data.\\n4.  **Check for Malware:** Malicious software can consume bandwidth and system resources. Run a scan with your antivirus software if you have one.\\n5.  **Try a Different Browser:** If one browser is slow, try another (e.g., if Chrome is slow, try Firefox or Edge) to see if the issue is browser-specific.\\n\\n---\\n\\n### **Step 5: Consider a Wired Connection (Ethernet)**\\n\\nIf possible, try connecting your computer directly to your router with an Ethernet cable.\\n\\n*   If your speed dramatically improves when wired, the problem is likely with your Wi-Fi signal or router\\'s wireless capabilities.\\n*   If the speed is still slow even with a wired connection, the issue is more likely with your modem, your ISP, or your internet line coming into your home.\\n\\n---\\n\\n### **Step 6: Contact Your Internet Service Provider (ISP)**\\n\\nIf you\\'ve tried all the above steps and your internet is still super slow, it\\'s time to reach out to your ISP. They can:\\n\\n*   **Check for outages** in your area.\\n*   **Run diagnostics on your line** remotely.\\n*   **Verify your modem\\'s health.**\\n*   **Confirm your service plan** and ensure you\\'re getting the speeds you\\'re paying for.\\n*   **Schedule a technician visit** if necessary.\\n\\n---\\n\\nI know this is a lot of information, but taking these steps systematically will help us figure out what\\'s going on.\\n\\nPlease let me know the answers to those initial questions, and what results you get from the speed test after trying the reboot. We\\'ll get to the bottom of this!'}"
      ]
     },
     "execution_count": 36,
     "metadata": {},
     "output_type": "execute_result"
    }
   ],
   "source": [
    "def run_customer_support(query: str) -> Dict[str, str]:\n",
    "    results = app.invoke({\"query\": query})\n",
    "    return {\n",
    "        \"category\": results.get(\"category\", \"\"),\n",
    "        \"sentiment\": results.get(\"sentiment\", \"\"),\n",
    "        \"response\": results.get(\"response\", \"\")\n",
    "    }\n",
    "\n",
    "# Test with a sample query\n",
    "result = run_customer_support(\"My internet connection is super slow, can you help me?\")\n",
    "result\n"
   ]
  },
  {
   "cell_type": "code",
   "execution_count": 37,
   "id": "9e797b2e",
   "metadata": {},
   "outputs": [
    {
     "data": {
      "text/markdown": [
       "\n",
       "**🔖 Category:** This query falls under the **Technical** category.\n",
       "\n",
       "The customer is experiencing a performance issue with their internet connection, which requires technical troubleshooting to diagnose and resolve.\n",
       "**💡 Sentiment:** **Negative**\n",
       "\n",
       "The customer's query \"My internet connection is super slow, can you help me?\" expresses a problem and dissatisfaction, indicating a negative sentiment.\n",
       "\n",
       "**📝 Response:**  \n",
       "Hi there! Oh no, a slow internet connection is incredibly frustrating, especially when you're trying to get things done or just relax. I'd be happy to help you troubleshoot this and get your speed back up!\n",
       "\n",
       "There are many reasons why an internet connection might slow down, so let's go through some common steps to pinpoint and fix the issue.\n",
       "\n",
       "To help us narrow down the cause, could you tell me a little more about what's happening?\n",
       "\n",
       "*   **Is it slow on ALL your devices (laptop, phone, tablet, smart TV), or just one specific device?**\n",
       "*   **Is it slow all the time, or only at certain times of the day?**\n",
       "*   **Is it slow on ALL websites and apps, or just specific ones (e.g., streaming services, online games)?**\n",
       "*   **Have you noticed any recent changes, like new devices, new software, or new internet service plan?**\n",
       "\n",
       "While you're thinking about that, here are the most common troubleshooting steps you can try right away:\n",
       "\n",
       "---\n",
       "\n",
       "### **Step 1: The Classic Reboot (Modem and Router)**\n",
       "\n",
       "This is the golden rule of tech support for a reason – it often fixes a surprising number of issues by clearing out temporary glitches and refreshing your connection.\n",
       "\n",
       "1.  **Unplug your modem** (the device that connects to your internet line, often provided by your ISP).\n",
       "2.  **Unplug your Wi-Fi router** (the device that broadcasts your Wi-Fi signal, sometimes combined with the modem).\n",
       "3.  **Wait about 30-60 seconds.** This allows the devices to fully power down and clear their memory.\n",
       "4.  **Plug your modem back in first.** Wait for all its lights to stabilize (this can take a few minutes).\n",
       "5.  **Once the modem lights are stable, plug your router back in.** Wait for its lights to stabilize as well.\n",
       "6.  **Test your internet connection** after everything is fully powered up.\n",
       "\n",
       "---\n",
       "\n",
       "### **Step 2: Run a Speed Test**\n",
       "\n",
       "Let's get a measurable idea of what \"super slow\" means.\n",
       "\n",
       "1.  Go to a reliable speed test website like **Ookla Speedtest (speedtest.net)** or **Google's Speed Test (just search \"speed test\" on Google)**.\n",
       "2.  **Run the test** and make a note of your **Download Speed**, **Upload Speed**, and **Ping** (latency).\n",
       "3.  **Compare these results to the speed you're paying for** from your Internet Service Provider (ISP). Keep in mind that Wi-Fi speeds are often a bit lower than wired connections, but it gives us a good baseline.\n",
       "\n",
       "---\n",
       "\n",
       "### **Step 3: Check Your Wi-Fi Signal & Placement**\n",
       "\n",
       "Wi-Fi signal strength and interference can significantly impact your speed.\n",
       "\n",
       "1.  **Move Closer to Your Router:** Try connecting to the internet with your device while sitting very close to your Wi-Fi router. If the speed significantly improves, your issue might be related to Wi-Fi signal strength or interference.\n",
       "2.  **Router Placement:**\n",
       "    *   **Central Location:** Your router should ideally be in a central location in your home, not tucked away in a corner or closet.\n",
       "    *   **Elevated:** Place it on a shelf or table, not on the floor.\n",
       "    *   **Away from Obstacles:** Keep it away from large metal objects, thick walls, and other electronics (like microwaves, cordless phones, baby monitors) that can interfere with the signal.\n",
       "3.  **Too Many Devices:** Are there many devices connected to your Wi-Fi network? Each device uses a portion of your bandwidth. Try disconnecting some devices temporarily to see if your speed improves.\n",
       "4.  **Wi-Fi Band:** Most modern routers broadcast on two frequencies: 2.4 GHz and 5 GHz.\n",
       "    *   **2.4 GHz** has a wider range and penetrates walls better, but is generally slower and more prone to interference.\n",
       "    *   **5 GHz** is much faster but has a shorter range and is more easily blocked by obstacles.\n",
       "    *   If your router broadcasts both, try connecting to the 5 GHz network if you're close to the router.\n",
       "\n",
       "---\n",
       "\n",
       "### **Step 4: Check Your Device (Computer/Phone)**\n",
       "\n",
       "Sometimes the problem isn't the internet itself, but the device you're using.\n",
       "\n",
       "1.  **Restart Your Device:** Just like the router, a quick reboot of your computer, phone, or tablet can clear out any temporary software glitches.\n",
       "2.  **Close Unnecessary Programs/Tabs:** If you have many applications running or dozens of browser tabs open, they can consume resources and slow down your device, making your internet *feel* slow.\n",
       "3.  **Clear Browser Cache:** Over time, your web browser accumulates temporary files (cache and cookies) which can sometimes slow down browsing. Look in your browser's settings for an option to clear browsing data.\n",
       "4.  **Check for Malware:** Malicious software can consume bandwidth and system resources. Run a scan with your antivirus software if you have one.\n",
       "5.  **Try a Different Browser:** If one browser is slow, try another (e.g., if Chrome is slow, try Firefox or Edge) to see if the issue is browser-specific.\n",
       "\n",
       "---\n",
       "\n",
       "### **Step 5: Consider a Wired Connection (Ethernet)**\n",
       "\n",
       "If possible, try connecting your computer directly to your router with an Ethernet cable.\n",
       "\n",
       "*   If your speed dramatically improves when wired, the problem is likely with your Wi-Fi signal or router's wireless capabilities.\n",
       "*   If the speed is still slow even with a wired connection, the issue is more likely with your modem, your ISP, or your internet line coming into your home.\n",
       "\n",
       "---\n",
       "\n",
       "### **Step 6: Contact Your Internet Service Provider (ISP)**\n",
       "\n",
       "If you've tried all the above steps and your internet is still super slow, it's time to reach out to your ISP. They can:\n",
       "\n",
       "*   **Check for outages** in your area.\n",
       "*   **Run diagnostics on your line** remotely.\n",
       "*   **Verify your modem's health.**\n",
       "*   **Confirm your service plan** and ensure you're getting the speeds you're paying for.\n",
       "*   **Schedule a technician visit** if necessary.\n",
       "\n",
       "---\n",
       "\n",
       "I know this is a lot of information, but taking these steps systematically will help us figure out what's going on.\n",
       "\n",
       "Please let me know the answers to those initial questions, and what results you get from the speed test after trying the reboot. We'll get to the bottom of this!\n"
      ],
      "text/plain": [
       "<IPython.core.display.Markdown object>"
      ]
     },
     "metadata": {},
     "output_type": "display_data"
    }
   ],
   "source": [
    "from IPython.display import display, Markdown\n",
    "\n",
    "def display_result(result: Dict[str, str]):\n",
    "    md = f\"\"\"\n",
    "**🔖 Category:** {result['category']}\n",
    "**💡 Sentiment:** {result['sentiment']}\n",
    "\n",
    "**📝 Response:**  \n",
    "{result['response']}\n",
    "\"\"\"\n",
    "    display(Markdown(md))\n",
    "\n",
    "display_result(result)\n"
   ]
  },
  {
   "cell_type": "code",
   "execution_count": 38,
   "id": "4d2a228c",
   "metadata": {},
   "outputs": [
    {
     "name": "stdout",
     "output_type": "stream",
     "text": [
      "=== Query: I was charged twice for my last bill, please fix this! ===\n",
      "Negative\n"
     ]
    },
    {
     "data": {
      "text/markdown": [
       "\n",
       "**🔖 Category:** This query falls under the **Billing** category.\n",
       "\n",
       "It directly relates to charges, invoices, and payment discrepancies.\n",
       "**💡 Sentiment:** Negative\n",
       "\n",
       "**📝 Response:**  \n",
       "Your query has been escalated to a human agent.\n"
      ],
      "text/plain": [
       "<IPython.core.display.Markdown object>"
      ]
     },
     "metadata": {},
     "output_type": "display_data"
    },
    {
     "name": "stdout",
     "output_type": "stream",
     "text": [
      "=== Query: Can I change my subscription plan? ===\n",
      "**Neutral**\n",
      "\n",
      "**Reasoning:** The query \"Can I change my subscription plan?\" is a straightforward request for information. It does not express any positive or negative sentiment towards the current plan, the service, or the desire to change. It's simply a functional question.\n"
     ]
    },
    {
     "data": {
      "text/markdown": [
       "\n",
       "**🔖 Category:** This query falls under **Billing**.\n",
       "\n",
       "Changing a subscription plan directly impacts the customer's charges, invoices, and overall financial relationship with the service.\n",
       "**💡 Sentiment:** **Neutral**\n",
       "\n",
       "**Reasoning:** The query \"Can I change my subscription plan?\" is a straightforward request for information. It does not express any positive or negative sentiment towards the current plan, the service, or the desire to change. It's simply a functional question.\n",
       "\n",
       "**📝 Response:**  \n",
       "Subject: Re: Can I change my subscription plan?\n",
       "\n",
       "Hi there,\n",
       "\n",
       "Absolutely, you can definitely change your subscription plan! We're happy to help you find the best fit for your needs.\n",
       "\n",
       "Here's how you can usually do it:\n",
       "\n",
       "1.  **Through Your Account Settings:** The quickest way is often by logging into your account on our website. Look for a section like \"Account Settings,\" \"Manage Subscription,\" \"Billing,\" or \"Plans.\" From there, you should see options to view other plans and make changes.\n",
       "2.  **What to Expect:**\n",
       "    *   **Plan Options:** You'll be able to see all available plans, their features, and pricing directly within that section.\n",
       "    *   **Proration:** If you change your plan mid-billing cycle (especially when upgrading), any unused portion of your current plan will typically be prorated and applied as a credit to your new plan, or adjusted on your next bill.\n",
       "    *   **Effective Date:** The change usually takes effect either immediately or at the start of your next billing cycle, depending on the specific plan change (e.g., upgrades often take effect immediately, while downgrades might take effect at the end of your current cycle).\n",
       "\n",
       "If you encounter any issues, can't find the option, or would like to discuss which plan might be best for your specific requirements, please don't hesitate to reply to this email or call us directly at [Your Phone Number].\n",
       "\n",
       "To help us assist you faster, if you reply, please include your account email address or customer ID.\n",
       "\n",
       "We're here to ensure you have the best experience!\n",
       "\n",
       "Best regards,\n",
       "\n",
       "[Your Name/Company Name] Support Team\n"
      ],
      "text/plain": [
       "<IPython.core.display.Markdown object>"
      ]
     },
     "metadata": {},
     "output_type": "display_data"
    },
    {
     "name": "stdout",
     "output_type": "stream",
     "text": [
      "=== Query: The website is not loading properly on my phone. ===\n",
      "Negative\n"
     ]
    },
    {
     "data": {
      "text/markdown": [
       "\n",
       "**🔖 Category:** This query falls under the **Technical** category.\n",
       "\n",
       "It describes a functional issue with the website's performance/display, which requires technical troubleshooting.\n",
       "**💡 Sentiment:** Negative\n",
       "\n",
       "**📝 Response:**  \n",
       "Your query has been escalated to a human agent.\n"
      ],
      "text/plain": [
       "<IPython.core.display.Markdown object>"
      ]
     },
     "metadata": {},
     "output_type": "display_data"
    }
   ],
   "source": [
    "queries = [\n",
    "    \"I was charged twice for my last bill, please fix this!\",\n",
    "    \"Can I change my subscription plan?\",\n",
    "    \"The website is not loading properly on my phone.\"\n",
    "]\n",
    "\n",
    "for q in queries:\n",
    "    print(f\"=== Query: {q} ===\")\n",
    "    display_result(run_customer_support(q))\n"
   ]
  }
 ],
 "metadata": {
  "kernelspec": {
   "display_name": "myenv",
   "language": "python",
   "name": "python3"
  },
  "language_info": {
   "codemirror_mode": {
    "name": "ipython",
    "version": 3
   },
   "file_extension": ".py",
   "mimetype": "text/x-python",
   "name": "python",
   "nbconvert_exporter": "python",
   "pygments_lexer": "ipython3",
   "version": "3.12.11"
  }
 },
 "nbformat": 4,
 "nbformat_minor": 5
}
