{
 "cells": [
  {
   "cell_type": "markdown",
   "id": "af8316b7",
   "metadata": {},
   "source": [
    "# 🧳 AI Travel Planner (LangChain + Gemini)\n",
    "\n",
    "This notebook demonstrates a **Generative AI-powered travel planner** built using:\n",
    "\n",
    "- **LangChain** for prompt templating & message management  \n",
    "- **LangGraph** for workflow orchestration  \n",
    "- **Gemini (Google Generative AI)** as the LLM  \n",
    "- **Python + Jupyter** for interactive execution  \n",
    "\n",
    "You'll be able to:\n",
    "1. Input a city and your interests.\n",
    "2. Generate a personalized **day-trip itinerary**.\n",
    "3. Understand how to build a modular agent workflow with best practices.\n",
    "\n",
    "---\n",
    "\n",
    "## ⚙️ Setup & Installation\n",
    "\n",
    "Before running, make sure you have:\n",
    "\n",
    "```bash\n",
    "pip install langchain langchain-core langchain-google-genai langgraph python-dotenv ipython\n"
   ]
  },
  {
   "cell_type": "code",
   "execution_count": 4,
   "id": "ffc0bb98",
   "metadata": {},
   "outputs": [],
   "source": [
    "\n",
    "import os\n",
    "from typing import TypedDict, Annotated, List\n",
    "\n",
    "from langgraph.graph import StateGraph, END\n",
    "from langchain_core.messages import HumanMessage, AIMessage\n",
    "from langchain_core.prompts import ChatPromptTemplate\n",
    "from dotenv import load_dotenv\n",
    "from langchain_google_genai import ChatGoogleGenerativeAI\n"
   ]
  },
  {
   "cell_type": "markdown",
   "id": "47fa1c63",
   "metadata": {},
   "source": [
    "## 📂 Step 2: Define the Application State\n",
    "\n",
    "We use a `TypedDict` to represent the state as it moves through the graph.\n",
    "This makes the code more **type-safe** and easy to debug.\n"
   ]
  },
  {
   "cell_type": "code",
   "execution_count": 5,
   "id": "e9f6b58c",
   "metadata": {},
   "outputs": [],
   "source": [
    "class PlannerState(TypedDict):\n",
    "    messages: Annotated[List[HumanMessage | AIMessage], \"Conversation history\"]\n",
    "    city: str\n",
    "    interests: List[str]\n",
    "    itinerary: str\n",
    "\n"
   ]
  },
  {
   "cell_type": "markdown",
   "id": "49f34a91",
   "metadata": {},
   "source": [
    "## 🔑 Step 3: Load Environment Variables\n",
    "\n",
    "We load the `GOOGLE_API_KEY` from the `.env` file for security.\n"
   ]
  },
  {
   "cell_type": "code",
   "execution_count": 6,
   "id": "caee110f",
   "metadata": {},
   "outputs": [
    {
     "name": "stdout",
     "output_type": "stream",
     "text": [
      "✅ Environment variables loaded successfully\n"
     ]
    }
   ],
   "source": [
    "load_dotenv()\n",
    "google_api_key = os.getenv(\"GOOGLE_API_KEY\")\n",
    "\n",
    "if not google_api_key:\n",
    "    raise ValueError(\"❌ GOOGLE_API_KEY not found. Please add it to your .env file.\")\n",
    "print(\"✅ Environment variables loaded successfully\")\n"
   ]
  },
  {
   "cell_type": "markdown",
   "id": "0374b07c",
   "metadata": {},
   "source": [
    "## 🤖 Step 4: Configure the Gemini LLM\n",
    "\n",
    "We use **Gemini 2.5 Flash** with a moderate temperature for balanced creativity.\n"
   ]
  },
  {
   "cell_type": "code",
   "execution_count": 7,
   "id": "0737ea52",
   "metadata": {},
   "outputs": [
    {
     "name": "stdout",
     "output_type": "stream",
     "text": [
      "✅ LLM configured successfully\n"
     ]
    }
   ],
   "source": [
    "llm = ChatGoogleGenerativeAI(\n",
    "    model=\"gemini-2.5-flash\",\n",
    "    google_api_key=google_api_key,\n",
    "    temperature=0.7,\n",
    ")\n",
    "\n",
    "print(\"✅ LLM configured successfully\")\n"
   ]
  },
  {
   "cell_type": "markdown",
   "id": "10a57053",
   "metadata": {},
   "source": [
    "## 🧾 Step 5: Define Prompt Template\n",
    "\n",
    "We create a reusable **ChatPromptTemplate** to guide the LLM in generating itineraries.\n"
   ]
  },
  {
   "cell_type": "code",
   "execution_count": 8,
   "id": "1f86ccb1",
   "metadata": {},
   "outputs": [],
   "source": [
    "itinerary_prompt = ChatPromptTemplate.from_messages([\n",
    "    (\"system\", \"You are a helpful travel assistant. Create a day trip for {city} based on user's interests: {interests}. Provide a brief, bulleted itinerary.\"),\n",
    "    (\"human\", \"Create an itinerary for my day trip\"),\n",
    "])\n"
   ]
  },
  {
   "cell_type": "markdown",
   "id": "8ef15728",
   "metadata": {},
   "source": [
    "## 🔗 Step 6: Define Workflow Nodes\n",
    "\n",
    "Each node represents a step in the workflow:\n",
    "\n",
    "1. **input_city** → Ask user for the city.\n",
    "2. **input_interest** → Ask user for their interests.\n",
    "3. **create_itinerary** → Generate and display itinerary.\n"
   ]
  },
  {
   "cell_type": "code",
   "execution_count": 9,
   "id": "c775153a",
   "metadata": {},
   "outputs": [],
   "source": [
    "def input_city(state: PlannerState) -> PlannerState:\n",
    "    user_message = input(\"Enter the city you want to visit: \")\n",
    "    return {\n",
    "        **state,\n",
    "        \"city\": user_message,\n",
    "        \"messages\": state['messages'] + [HumanMessage(content=user_message)],\n",
    "    }\n",
    "\n",
    "def input_interest(state: PlannerState) -> PlannerState:\n",
    "    user_message = input(f\"Enter your interests for {state['city']} (comma-separated): \")\n",
    "    return {\n",
    "        **state,\n",
    "        \"interests\": [i.strip() for i in user_message.split(\",\")],\n",
    "        \"messages\": state['messages'] + [HumanMessage(content=user_message)],\n",
    "    }\n",
    "\n",
    "def create_itinerary(state: PlannerState) -> PlannerState:\n",
    "    print(f\"\\n📝 Creating itinerary for {state['city']}...\\n\")\n",
    "    response = llm.invoke(itinerary_prompt.format_messages(\n",
    "        city=state[\"city\"],\n",
    "        interests=\". \".join(state[\"interests\"])\n",
    "    ))\n",
    "    print(\"✅ Suggested Itinerary:\\n\")\n",
    "    print(response.content)\n",
    "    return {\n",
    "        **state,\n",
    "        \"messages\": state['messages'] + [AIMessage(content=response.content)],\n",
    "        \"itinerary\": response.content,\n",
    "    }\n"
   ]
  },
  {
   "cell_type": "markdown",
   "id": "b9089f20",
   "metadata": {},
   "source": [
    "## 🧠 Step 7: Build the LangGraph Workflow\n"
   ]
  },
  {
   "cell_type": "code",
   "execution_count": 10,
   "id": "ea49bc83",
   "metadata": {},
   "outputs": [
    {
     "name": "stdout",
     "output_type": "stream",
     "text": [
      "✅ Workflow compiled successfully\n"
     ]
    }
   ],
   "source": [
    "workflow = StateGraph(PlannerState)\n",
    "\n",
    "workflow.add_node(\"input_city\", input_city)\n",
    "workflow.add_node(\"input_interest\", input_interest)\n",
    "workflow.add_node(\"create_itinerary\", create_itinerary)\n",
    "\n",
    "workflow.set_entry_point(\"input_city\")\n",
    "workflow.add_edge(\"input_city\", \"input_interest\")\n",
    "workflow.add_edge(\"input_interest\", \"create_itinerary\")\n",
    "workflow.add_edge(\"create_itinerary\", END)\n",
    "\n",
    "app = workflow.compile()\n",
    "print(\"✅ Workflow compiled successfully\")\n"
   ]
  },
  {
   "cell_type": "markdown",
   "id": "03097de2",
   "metadata": {},
   "source": [
    "## ▶️ Step 8: Run the Travel Planner\n",
    "\n",
    "The `travel_planner` function initializes state and streams through the workflow.\n"
   ]
  },
  {
   "cell_type": "code",
   "execution_count": 11,
   "id": "f1541146",
   "metadata": {},
   "outputs": [
    {
     "name": "stdout",
     "output_type": "stream",
     "text": [
      "🌍 Initial Request: I want to plan a trip\n",
      "\n",
      "\n",
      "📝 Creating itinerary for Hyderabad...\n",
      "\n",
      "✅ Suggested Itinerary:\n",
      "\n",
      "Here's a fascinating day trip itinerary for Hyderabad, focusing on its rich historical heritage, well within your generous budget of ₹30,000!\n",
      "\n",
      "**A Day of Historical Wonders in Hyderabad**\n",
      "\n",
      "Embark on a journey through time, exploring the grand forts, majestic palaces, and ancient mosques that tell the tale of Hyderabad's glorious past.\n",
      "\n",
      "*   **Morning (9:00 AM - 1:00 PM): Golconda's Grandeur & Royal Tombs**\n",
      "    *   **9:00 AM - 11:30 AM: Golconda Fort:** Start your day at the magnificent **Golconda Fort**. Explore its impressive acoustics, climb to the top for panoramic views of the city, and imagine its diamond trading past. Allow ample time to wander through its various sections.\n",
      "    *   **11:30 AM - 1:00 PM: Qutb Shahi Tombs:** Just a short drive from Golconda, visit the serene **Qutb Shahi Tombs**. These architectural marvels are the resting places of the Qutb Shahi rulers and their family, set amidst beautiful gardens.\n",
      "\n",
      "*   **Lunch (1:00 PM - 2:00 PM): Authentic Hyderabadi Flavors**\n",
      "    *   Enjoy a traditional Hyderabadi lunch. You can find excellent biryani and local dishes at a renowned restaurant near the Old City or en route.\n",
      "\n",
      "*   **Afternoon (2:00 PM - 6:00 PM): Charminar's Charm & Nizam's Legacy**\n",
      "    *   **2:00 PM - 3:30 PM: Charminar & Mecca Masjid:** Head to the iconic **Charminar**, the symbol of Hyderabad. Climb to its first floor for a closer look at its architecture and bustling surroundings. Right next to it is **Mecca Masjid**, one of India's largest and oldest mosques – a truly awe-inspiring structure.\n",
      "    *   **3:30 PM - 5:30 PM: Chowmahalla Palace:** A short walk or drive from Charminar, explore the exquisite **Chowmahalla Palace**. This grand palace was the seat of the Nizams of Hyderabad and showcases their opulent lifestyle, stunning courtyards, and impressive collection of vintage cars.\n",
      "\n",
      "*   **Evening (6:00 PM onwards): Souvenirs & Sunset Dinner**\n",
      "    *   **6:00 PM - 7:00 PM (Optional): Laad Bazaar:** If you're interested in traditional Hyderabadi bangles and souvenirs, take a stroll through the vibrant **Laad Bazaar** surrounding Charminar.\n",
      "    *   **7:00 PM onwards: Dinner:** Conclude your historical day with a delightful dinner at a fine dining restaurant, perhaps savoring more Hyderabadi delicacies or other cuisines of your choice.\n",
      "\n",
      "---\n",
      "\n",
      "**Budget & Logistics Notes:**\n",
      "\n",
      "*   **Transport:** With your budget, consider hiring a private cab for the entire day (Ola/Uber Rentals or a local taxi service). This will make commuting between sites seamless and comfortable. (Approx. ₹1,500 - ₹3,000 for the day).\n",
      "*   **Entrance Fees:** All major historical sites have nominal entrance fees (typically ₹25-₹100 for Indian nationals, slightly higher for foreign tourists).\n",
      "*   **Food:** You can enjoy excellent meals at top-rated restaurants, including a traditional Hyderabadi Biryani experience. (Approx. ₹1,500 - ₹3,000 for the day).\n",
      "*   **Miscellaneous:** Keep some buffer for water, snacks, and any souvenirs.\n",
      "*   **Total Estimated Cost:** This day trip, including comfortable transport and good food, will likely be in the range of ₹4,000 - ₹8,000, leaving you with plenty of your ₹30,000 budget for a luxurious experience or other activities if you extend your stay!\n",
      "\n",
      "**Tips for Your Trip:**\n",
      "*   Wear comfortable walking shoes as there will be a fair bit of walking at Golconda Fort and Chowmahalla Palace.\n",
      "*   Carry water, especially if visiting during warmer months.\n",
      "*   Consider hiring a licensed guide at Golconda Fort for a more in-depth understanding of its history.\n"
     ]
    }
   ],
   "source": [
    "def travel_planner(user_request: str):\n",
    "    print(f\"🌍 Initial Request: {user_request}\\n\")\n",
    "    state = {\n",
    "        \"messages\": [HumanMessage(content=user_request)],\n",
    "        \"city\": \"\",\n",
    "        \"interests\": [],\n",
    "        \"itinerary\": \"\",\n",
    "    }\n",
    "    for _ in app.stream(state):\n",
    "        pass\n",
    "\n",
    "# Run the app interactively\n",
    "travel_planner(\"I want to plan a trip\")\n"
   ]
  }
 ],
 "metadata": {
  "kernelspec": {
   "display_name": "myenv",
   "language": "python",
   "name": "python3"
  },
  "language_info": {
   "codemirror_mode": {
    "name": "ipython",
    "version": 3
   },
   "file_extension": ".py",
   "mimetype": "text/x-python",
   "name": "python",
   "nbconvert_exporter": "python",
   "pygments_lexer": "ipython3",
   "version": "3.12.11"
  }
 },
 "nbformat": 4,
 "nbformat_minor": 5
}
